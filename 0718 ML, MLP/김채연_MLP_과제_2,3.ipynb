{
  "cells": [
    {
      "cell_type": "markdown",
      "metadata": {
        "id": "4sSY3DjNbPEa"
      },
      "source": [
        "### 필요 Package download"
      ]
    },
    {
      "cell_type": "code",
      "execution_count": 1,
      "metadata": {
        "id": "PK3bVKuBcbZ6"
      },
      "outputs": [],
      "source": [
        "import torch\n",
        "import torchvision\n",
        "import torchvision.transforms as transforms"
      ]
    },
    {
      "cell_type": "code",
      "execution_count": 2,
      "metadata": {
        "colab": {
          "base_uri": "https://localhost:8080/"
        },
        "id": "B7Jp6DQLn3sz",
        "outputId": "654c463a-ba9a-42e8-a205-312b503a1934"
      },
      "outputs": [
        {
          "output_type": "stream",
          "name": "stdout",
          "text": [
            "cuda\n"
          ]
        }
      ],
      "source": [
        "device = torch.device('cuda' if torch.cuda.is_available() else 'cpu')\n",
        "\n",
        "# 현재 gpu를 사용중이면 cuda로 출력됩니다!:\n",
        "# gpu 변경은 런타임 -> 런타임 유형변경 -> 하드웨어 가속기: GPU로 할 수 있습니다.\n",
        "\n",
        "print(device)"
      ]
    },
    {
      "cell_type": "markdown",
      "metadata": {
        "id": "W9v_beLpA34L"
      },
      "source": [
        "## 데이터 부연설명\n",
        "* 저희가 사용할 dataset은 cifar-10이라는 이름을 가진, 컬러 이미지 데이터 60,000개가 들어있는\n",
        "dataset입니다. <br>\n",
        "* 해당 dataset은 총 10개의 class로 나누어져 있으며, 이 task는 각 이미지에 대한 class의 분류 accuracy를 높이는 것이 목적입니다."
      ]
    },
    {
      "cell_type": "markdown",
      "metadata": {
        "id": "Z8e8Z-lhhxZ7"
      },
      "source": [
        "### Data Normalize & DataLoader Settting"
      ]
    },
    {
      "cell_type": "code",
      "execution_count": 3,
      "metadata": {
        "colab": {
          "base_uri": "https://localhost:8080/"
        },
        "id": "itmleb14cdyh",
        "outputId": "f8698640-52ed-4984-87a7-b101330e0a29"
      },
      "outputs": [
        {
          "output_type": "stream",
          "name": "stdout",
          "text": [
            "Downloading https://www.cs.toronto.edu/~kriz/cifar-10-python.tar.gz to ./data/cifar-10-python.tar.gz\n"
          ]
        },
        {
          "output_type": "stream",
          "name": "stderr",
          "text": [
            "100%|██████████| 170498071/170498071 [00:14<00:00, 11947177.62it/s]\n"
          ]
        },
        {
          "output_type": "stream",
          "name": "stdout",
          "text": [
            "Extracting ./data/cifar-10-python.tar.gz to ./data\n",
            "Files already downloaded and verified\n"
          ]
        }
      ],
      "source": [
        "transform = transforms.Compose(\n",
        "    [transforms.ToTensor(),\n",
        "     transforms.Normalize((0.5, 0.5, 0.5), (0.5, 0.5, 0.5))])\n",
        "\n",
        "trainset = torchvision.datasets.CIFAR10(root='./data', train=True,\n",
        "                                        download=True, transform=transform)\n",
        "trainloader = torch.utils.data.DataLoader(trainset, batch_size=4,\n",
        "                                          shuffle=True, num_workers=2)\n",
        "\n",
        "testset = torchvision.datasets.CIFAR10(root='./data', train=False,\n",
        "                                       download=True, transform=transform)\n",
        "testloader = torch.utils.data.DataLoader(testset, batch_size=4,\n",
        "                                         shuffle=False, num_workers=2)\n",
        "\n",
        "classes = ('plane', 'car', 'bird', 'cat',\n",
        "           'deer', 'dog', 'frog', 'horse', 'ship', 'truck')"
      ]
    },
    {
      "cell_type": "code",
      "execution_count": 4,
      "metadata": {
        "colab": {
          "base_uri": "https://localhost:8080/",
          "height": 211
        },
        "id": "ViOCagdocmEt",
        "outputId": "e674a101-2c02-4617-96b5-ed4082658caa"
      },
      "outputs": [
        {
          "output_type": "stream",
          "name": "stdout",
          "text": [
            " ship horse   cat truck\n"
          ]
        },
        {
          "output_type": "display_data",
          "data": {
            "text/plain": [
              "<Figure size 640x480 with 1 Axes>"
            ],
            "image/png": "[encoded data removed]"
          },
          "metadata": {}
        }
      ],
      "source": [
        "import matplotlib.pyplot as plt\n",
        "import numpy as np\n",
        "\n",
        "# 이미지를 보여주기 위한 함수\n",
        "\n",
        "\n",
        "def imshow(img):\n",
        "    img = img / 2 + 0.5     # 표준화 해제\n",
        "    npimg = img.numpy()\n",
        "    plt.imshow(np.transpose(npimg, (1, 2, 0)))\n",
        "\n",
        "\n",
        "# 학습용 이미지를 무작위로 가져오기\n",
        "dataiter = iter(trainloader)\n",
        "images, labels = dataiter.__next__()\n",
        "\n",
        "# 이미지 보여주기\n",
        "imshow(torchvision.utils.make_grid(images))\n",
        "# 정답(label) 출력\n",
        "print(' '.join('%5s' % classes[labels[j]] for j in range(4)))\n",
        "plt.show()"
      ]
    },
    {
      "cell_type": "code",
      "execution_count": 5,
      "metadata": {
        "id": "TQsfjGTWcm-i"
      },
      "outputs": [],
      "source": [
        "import torch.nn as nn\n",
        "import torch.nn.functional as F\n",
        "\n",
        "#해당 부분은 어느 정도 CNN의 개념이 포함되어 있습니다! 과제를 수행하는데 아무 관련도 없으니 그대로 두시면 됩니다!\n",
        "class Net(nn.Module):\n",
        "    def __init__(self):\n",
        "        super(Net, self).__init__()\n",
        "        self.conv1 = nn.Conv2d(3, 6, 5) # input channels, output channels, kernel size\n",
        "        self.pool = nn.MaxPool2d(2, 2)  # kernel size, stride, padding = 0 (default)\n",
        "        self.conv2 = nn.Conv2d(6, 16, 5)\n",
        "\n",
        "        #아래 부분의 코드를 수정 혹은 추가해주시면 됩니다! (layer를 추가할때는 self.fc'num'=nn.Linear(x,y)의 형태로 추가하시면 됩니다!)\n",
        "        self.fc1 = nn.Linear(400, 120) # input features, output features\n",
        "        self.fc2 = nn.Linear(120, 64)\n",
        "        self.fc3 = nn.Linear(64, 48)\n",
        "        self.fc4 = nn.Linear(48, 24)\n",
        "        self.fc5 = nn.Linear(24, 10)\n",
        "\n",
        "    def forward(self, x):\n",
        "        x = self.pool(F.relu(self.conv1(x)))\n",
        "        x = self.pool(F.relu(self.conv2(x)))\n",
        "        x = x.view(-1, 16 * 5 * 5)\n",
        "        #아래 부분에서 코드를 수정하거나 추가하여 forward 함수를 새롭게 지정해주시기 바랍니다!\n",
        "        #Hint: relu 함수는 출력층을 제외한 모든 층에서 활성화 함수로써 작동되어야 합니다.\n",
        "        x = F.relu(self.fc1(x))\n",
        "        x = F.relu(self.fc2(x))\n",
        "        x = F.relu(self.fc3(x))\n",
        "        x = F.relu(self.fc4(x))\n",
        "        x = self.fc5(x)\n",
        "        return x\n",
        "\n",
        "\n",
        "net = Net()"
      ]
    },
    {
      "cell_type": "code",
      "execution_count": 13,
      "metadata": {
        "id": "HmJhscg1dIhs"
      },
      "outputs": [],
      "source": [
        "import torch.optim as optim\n",
        "\n",
        "#optimizer를 변경하거나 수치를 조정해보는 것도 accuracy를 높이는 데 도움을 줄 수 있습니다!\n",
        "criterion = nn.CrossEntropyLoss()\n",
        "optimizer = optim.Adam(net.parameters(), lr=0.001)"
      ]
    },
    {
      "cell_type": "code",
      "execution_count": 14,
      "metadata": {
        "colab": {
          "base_uri": "https://localhost:8080/"
        },
        "id": "wpAa24bGdT3_",
        "outputId": "0b96807b-8ec7-4e2d-85ea-1d575cff8fcb"
      },
      "outputs": [
        {
          "output_type": "stream",
          "name": "stdout",
          "text": [
            "[1,  2000] loss: 1.493\n",
            "[1,  4000] loss: 1.453\n",
            "[1,  6000] loss: 1.433\n",
            "[1,  8000] loss: 1.362\n",
            "[1, 10000] loss: 1.342\n",
            "[1, 12000] loss: 1.319\n",
            "[2,  2000] loss: 1.261\n",
            "[2,  4000] loss: 1.221\n",
            "[2,  6000] loss: 1.201\n",
            "[2,  8000] loss: 1.230\n",
            "[2, 10000] loss: 1.200\n",
            "[2, 12000] loss: 1.175\n",
            "[3,  2000] loss: 1.115\n",
            "[3,  4000] loss: 1.118\n",
            "[3,  6000] loss: 1.123\n",
            "[3,  8000] loss: 1.117\n",
            "[3, 10000] loss: 1.115\n",
            "[3, 12000] loss: 1.116\n",
            "[4,  2000] loss: 1.022\n",
            "[4,  4000] loss: 1.051\n",
            "[4,  6000] loss: 1.064\n",
            "[4,  8000] loss: 1.065\n",
            "[4, 10000] loss: 1.045\n",
            "[4, 12000] loss: 1.053\n",
            "[5,  2000] loss: 0.987\n",
            "[5,  4000] loss: 0.993\n",
            "[5,  6000] loss: 0.996\n",
            "[5,  8000] loss: 1.009\n",
            "[5, 10000] loss: 0.998\n",
            "[5, 12000] loss: 1.032\n",
            "[6,  2000] loss: 0.948\n",
            "[6,  4000] loss: 0.945\n",
            "[6,  6000] loss: 0.941\n",
            "[6,  8000] loss: 0.944\n",
            "[6, 10000] loss: 0.980\n",
            "[6, 12000] loss: 0.957\n",
            "[7,  2000] loss: 0.894\n",
            "[7,  4000] loss: 0.919\n",
            "[7,  6000] loss: 0.914\n",
            "[7,  8000] loss: 0.936\n",
            "[7, 10000] loss: 0.957\n",
            "[7, 12000] loss: 0.947\n",
            "[8,  2000] loss: 0.855\n",
            "[8,  4000] loss: 0.889\n",
            "[8,  6000] loss: 0.889\n",
            "[8,  8000] loss: 0.918\n",
            "[8, 10000] loss: 0.899\n",
            "[8, 12000] loss: 0.911\n",
            "[9,  2000] loss: 0.817\n",
            "[9,  4000] loss: 0.866\n",
            "[9,  6000] loss: 0.868\n",
            "[9,  8000] loss: 0.872\n",
            "[9, 10000] loss: 0.877\n",
            "[9, 12000] loss: 0.907\n",
            "[10,  2000] loss: 0.808\n",
            "[10,  4000] loss: 0.830\n",
            "[10,  6000] loss: 0.847\n",
            "[10,  8000] loss: 0.849\n",
            "[10, 10000] loss: 0.865\n",
            "[10, 12000] loss: 0.874\n",
            "[11,  2000] loss: 0.778\n",
            "[11,  4000] loss: 0.808\n",
            "[11,  6000] loss: 0.825\n",
            "[11,  8000] loss: 0.834\n",
            "[11, 10000] loss: 0.853\n",
            "[11, 12000] loss: 0.832\n",
            "[12,  2000] loss: 0.768\n",
            "[12,  4000] loss: 0.778\n",
            "[12,  6000] loss: 0.818\n",
            "[12,  8000] loss: 0.816\n",
            "[12, 10000] loss: 0.824\n",
            "[12, 12000] loss: 0.816\n",
            "[13,  2000] loss: 0.769\n",
            "[13,  4000] loss: 0.761\n",
            "[13,  6000] loss: 0.781\n",
            "[13,  8000] loss: 0.786\n",
            "[13, 10000] loss: 0.805\n",
            "[13, 12000] loss: 0.819\n",
            "[14,  2000] loss: 0.732\n",
            "[14,  4000] loss: 0.773\n",
            "[14,  6000] loss: 0.769\n",
            "[14,  8000] loss: 0.773\n",
            "[14, 10000] loss: 0.781\n",
            "[14, 12000] loss: 0.791\n",
            "[15,  2000] loss: 0.719\n",
            "[15,  4000] loss: 0.758\n",
            "[15,  6000] loss: 0.750\n",
            "[15,  8000] loss: 0.782\n",
            "[15, 10000] loss: 0.777\n",
            "[15, 12000] loss: 0.771\n",
            "[16,  2000] loss: 0.743\n",
            "[16,  4000] loss: 0.715\n",
            "[16,  6000] loss: 0.734\n",
            "[16,  8000] loss: 0.747\n",
            "[16, 10000] loss: 0.757\n",
            "[16, 12000] loss: 0.747\n",
            "[17,  2000] loss: 0.697\n",
            "[17,  4000] loss: 0.715\n",
            "[17,  6000] loss: 0.736\n",
            "[17,  8000] loss: 0.717\n",
            "[17, 10000] loss: 0.761\n",
            "[17, 12000] loss: 0.775\n",
            "[18,  2000] loss: 0.687\n",
            "[18,  4000] loss: 0.729\n",
            "[18,  6000] loss: 0.682\n",
            "[18,  8000] loss: 0.752\n",
            "[18, 10000] loss: 0.721\n",
            "[18, 12000] loss: 0.760\n",
            "[19,  2000] loss: 0.657\n",
            "[19,  4000] loss: 0.694\n",
            "[19,  6000] loss: 0.696\n",
            "[19,  8000] loss: 0.739\n",
            "[19, 10000] loss: 0.730\n",
            "[19, 12000] loss: 0.742\n",
            "[20,  2000] loss: 0.642\n",
            "[20,  4000] loss: 0.692\n",
            "[20,  6000] loss: 0.706\n",
            "[20,  8000] loss: 0.696\n",
            "[20, 10000] loss: 0.721\n",
            "[20, 12000] loss: 0.706\n",
            "Finished Training\n"
          ]
        }
      ],
      "source": [
        "# 데이터셋을 n차례 반복하여 학습합니다. 또한 range 속의 숫자도 바꾸어 학습률을 높이는 것도 도움이 될 겁니다!\n",
        "\n",
        "for epoch in range(20):  # 데이터셋을 20차례 반복하여 학습합니다.\n",
        "\n",
        "    running_loss = 0.0\n",
        "    for i, data in enumerate(trainloader, 0):\n",
        "        inputs, labels = data\n",
        "        optimizer.zero_grad()\n",
        "        outputs = net(inputs)\n",
        "        loss = criterion(outputs, labels)\n",
        "        loss.backward()\n",
        "        optimizer.step()\n",
        "\n",
        "        running_loss += loss.item()\n",
        "        if i % 2000 == 1999:\n",
        "            print('[%d, %5d] loss: %.3f' %\n",
        "                  (epoch + 1, i + 1, running_loss / 2000))\n",
        "            running_loss = 0.0\n",
        "print('Finished Training')"
      ]
    },
    {
      "cell_type": "code",
      "execution_count": 15,
      "metadata": {
        "colab": {
          "base_uri": "https://localhost:8080/",
          "height": 211
        },
        "id": "rNF7TthMfA37",
        "outputId": "2339714b-24a1-408c-8c7a-ace09a283885"
      },
      "outputs": [
        {
          "output_type": "stream",
          "name": "stdout",
          "text": [
            "GroundTruth:    cat  ship  ship plane\n"
          ]
        },
        {
          "output_type": "display_data",
          "data": {
            "text/plain": [
              "<Figure size 640x480 with 1 Axes>"
            ],
            "image/png": "[encoded data removed]"
          },
          "metadata": {}
        }
      ],
      "source": [
        "dataiter = iter(testloader)\n",
        "images, labels = dataiter.__next__()\n",
        "\n",
        "# print images\n",
        "imshow(torchvision.utils.make_grid(images))\n",
        "print('GroundTruth: ', ' '.join('%5s' % classes[labels[j]] for j in range(4)))\n",
        "plt.show()"
      ]
    },
    {
      "cell_type": "code",
      "execution_count": 16,
      "metadata": {
        "colab": {
          "base_uri": "https://localhost:8080/"
        },
        "id": "NJqS91M8hYv1",
        "outputId": "453a01ce-e4fc-4a4f-a19d-f7ebff100bf3"
      },
      "outputs": [
        {
          "output_type": "stream",
          "name": "stdout",
          "text": [
            "Predicted:    dog   car  ship plane\n"
          ]
        }
      ],
      "source": [
        "outputs = net(images)\n",
        "_, predicted = torch.max(outputs, 1)\n",
        "\n",
        "print('Predicted: ', ' '.join('%5s' % classes[predicted[j]]\n",
        "                              for j in range(4)))"
      ]
    },
    {
      "cell_type": "code",
      "execution_count": 17,
      "metadata": {
        "colab": {
          "base_uri": "https://localhost:8080/"
        },
        "id": "wKItpc_2heNT",
        "outputId": "7359b809-9b28-4c7a-dd93-58285fad4d18"
      },
      "outputs": [
        {
          "output_type": "stream",
          "name": "stdout",
          "text": [
            "Accuracy of the network on the 10000 test images: 63 %\n"
          ]
        }
      ],
      "source": [
        "#과제2에서 요구하는 accuracy의 결과값이 나오는 code입니다! 캡처를 하실 때는 해당 코드의 결과를 캡처하시고, 이를 제출하여 주시기 바랍니다~\n",
        "correct = 0\n",
        "total = 0\n",
        "with torch.no_grad():\n",
        "    for data in testloader:\n",
        "        images, labels = data\n",
        "        outputs = net(images)\n",
        "        _, predicted = torch.max(outputs.data, 1)\n",
        "        total += labels.size(0)\n",
        "        correct += (predicted == labels).sum().item()\n",
        "\n",
        "print('Accuracy of the network on the 10000 test images: %d %%' % (\n",
        "    100 * correct / total))"
      ]
    },
    {
      "cell_type": "code",
      "execution_count": 18,
      "metadata": {
        "colab": {
          "base_uri": "https://localhost:8080/"
        },
        "id": "2VD2MZ91hkk1",
        "outputId": "a044ada9-12e4-4282-ee0a-0dcb78e1e733"
      },
      "outputs": [
        {
          "output_type": "stream",
          "name": "stdout",
          "text": [
            "Accuracy of plane : 75 %\n",
            "Accuracy of   car : 74 %\n",
            "Accuracy of  bird : 47 %\n",
            "Accuracy of   cat : 52 %\n",
            "Accuracy of  deer : 61 %\n",
            "Accuracy of   dog : 40 %\n",
            "Accuracy of  frog : 70 %\n",
            "Accuracy of horse : 65 %\n",
            "Accuracy of  ship : 72 %\n",
            "Accuracy of truck : 70 %\n"
          ]
        }
      ],
      "source": [
        "class_correct = list(0. for i in range(10))\n",
        "class_total = list(0. for i in range(10))\n",
        "with torch.no_grad():\n",
        "    for data in testloader:\n",
        "        images, labels = data\n",
        "        outputs = net(images)\n",
        "        _, predicted = torch.max(outputs, 1)\n",
        "        c = (predicted == labels).squeeze()\n",
        "        for i in range(4):\n",
        "            label = labels[i]\n",
        "            class_correct[label] += c[i].item()\n",
        "            class_total[label] += 1\n",
        "\n",
        "\n",
        "for i in range(10):\n",
        "    print('Accuracy of %5s : %2d %%' % (\n",
        "        classes[i], 100 * class_correct[i] / class_total[i]))"
      ]
    },
    {
      "cell_type": "markdown",
      "metadata": {
        "id": "FXdtUROHSU4_"
      },
      "source": [
        "출처: https://m.blog.naver.com/ckdgus1433/221406102936의 튜토리얼을 참고하였습니다!"
      ]
    },
    {
      "cell_type": "markdown",
      "metadata": {
        "id": "SXfXZ7HorjRI"
      },
      "source": [
        "#과제"
      ]
    },
    {
      "cell_type": "markdown",
      "metadata": {
        "id": "PxXa62w5rmyq"
      },
      "source": [
        "##1. 실습 파일의 overfitting model의 optimizer, epoch, learning rate 등을 변경하여 실행한 결과와, underfitting의 layer를 2개 이상 추가하여 실행한 결과를 각각 캡처하여 overfit, underfit이라는 이름으로 깃허브에 제출하기.  <br> <br>\n",
        "##2. 과제 파일을 수정하여 Test image에 대한 accuracy를 55% 이상으로 높이고, 모델의 결과에 대한 캡처본과 파일을 모두 깃허브에 제출하기. <br>\n",
        "Hint: 파일 중간중간에 설명이 있는 부분을 참고하시면 아마 될 겁니다!<br>\n",
        "(layer 추가, optimizer 변경, learning rate 조정 등...) <br>\n",
        "##3. MLP model과 기존 ML model의 차이점을 최소 2가지 측면에서 서술하기. <br>\n",
        "(1) 은닉층 여부\n",
        "---\n",
        "\n",
        "MLP: Multi Layer Perceptron으로, 입력층과 출력층 외 '은닉층'들을 추가하여 문제를 비선형적으로 풀 수 있게 만든 구조이다. 각 은닉층이 여러 뉴런으로 이루어져 있고, 각 층의 뉴런은 이전 층의 모든 뉴런과 연결되어 가중치와 활성화 함수를 통해 출력값을 계산한다. 따라서 복잡한 비선형성도 계산 가능하다.\n",
        "ML: 기존 ML 모델은 주로 선형 모델, 결정트리, 랜덤포레스트, 서포트 벡터 머신 등이 있었고 하나의 층으로 계산하여 예측을 수행하는 구조이다.\n",
        "\n",
        "(2) 사용 데이터\n",
        "---\n",
        "\n",
        "기존 ML은 특정 구조로 되어 있는 (csv, DB, excel 저장 용이한) 정형 데이터를 학습할 때 성과가 좋았다. MLP는 ML과 달리 별도의 Feature Engineering 과정 없이, 데이터 선별 과정 등의 전처리는 자동으로 인공신경망으로 처리 가능하다. 따라서 영상, 이미지, 음악 같은 비정형 데이터를 처리하기 용이하다. 다만 Gradient vanishing, overfitting 문제에서는 자유롭지 못하다."
      ]
    }
  ],
  "metadata": {
    "accelerator": "GPU",
    "colab": {
      "gpuType": "T4",
      "provenance": []
    },
    "kernelspec": {
      "display_name": "Python 3",
      "name": "python3"
    },
    "language_info": {
      "codemirror_mode": {
        "name": "ipython",
        "version": 3
      },
      "file_extension": ".py",
      "mimetype": "text/x-python",
      "name": "python",
      "nbconvert_exporter": "python",
      "pygments_lexer": "ipython3",
      "version": "3.10.9"
    }
  },
  "nbformat": 4,
  "nbformat_minor": 0
}